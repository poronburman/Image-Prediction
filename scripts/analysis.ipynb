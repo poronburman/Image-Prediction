{
 "metadata": {
  "language_info": {
   "codemirror_mode": {
    "name": "ipython",
    "version": 3
   },
   "file_extension": ".py",
   "mimetype": "text/x-python",
   "name": "python",
   "nbconvert_exporter": "python",
   "pygments_lexer": "ipython3",
   "version": "3.8.3-final"
  },
  "orig_nbformat": 2,
  "kernelspec": {
   "name": "Python 3.8.3 64-bit ('base': conda)",
   "display_name": "Python 3.8.3 64-bit ('base': conda)",
   "metadata": {
    "interpreter": {
     "hash": "773cd773c5cecd2f98b3b801285462107d16b9fec0e23178905f0577bd69827e"
    }
   }
  }
 },
 "nbformat": 4,
 "nbformat_minor": 2,
 "cells": [
  {
   "source": [
    "# CNN"
   ],
   "cell_type": "markdown",
   "metadata": {}
  },
  {
   "source": [
    "**1. import libraries**"
   ],
   "cell_type": "markdown",
   "metadata": {}
  },
  {
   "cell_type": "code",
   "execution_count": 1,
   "metadata": {},
   "outputs": [],
   "source": [
    "import tensorflow as tf\n",
    "from keras.preprocessing.image import ImageDataGenerator"
   ]
  },
  {
   "source": [
    "**2. import dataset/ data pre processing**"
   ],
   "cell_type": "markdown",
   "metadata": {}
  },
  {
   "source": [
    "*a) training data*"
   ],
   "cell_type": "markdown",
   "metadata": {}
  },
  {
   "cell_type": "code",
   "execution_count": 2,
   "metadata": {},
   "outputs": [
    {
     "output_type": "stream",
     "name": "stdout",
     "text": [
      "Found 8000 images belonging to 2 classes.\n"
     ]
    }
   ],
   "source": [
    "train_datagen = ImageDataGenerator(rescale = 1./255,\n",
    "                                   shear_range = 0.2,\n",
    "                                   zoom_range = 0.2,\n",
    "                                   horizontal_flip = True)\n",
    "                                   \n",
    "training_set = train_datagen.flow_from_directory('dataset/training_set',\n",
    "                                                 target_size = (64, 64),\n",
    "                                                 batch_size = 32,\n",
    "                                                 class_mode = 'binary')"
   ]
  },
  {
   "source": [
    "*b) testing set*"
   ],
   "cell_type": "markdown",
   "metadata": {}
  },
  {
   "cell_type": "code",
   "execution_count": 3,
   "metadata": {},
   "outputs": [
    {
     "output_type": "stream",
     "name": "stdout",
     "text": [
      "Found 2000 images belonging to 2 classes.\n"
     ]
    }
   ],
   "source": [
    "test_datagen = ImageDataGenerator(rescale = 1./255)\n",
    "\n",
    "test_set = test_datagen.flow_from_directory('dataset/test_set',\n",
    "                                            target_size = (64, 64),\n",
    "                                            batch_size = 32,\n",
    "                                            class_mode = 'binary')"
   ]
  },
  {
   "source": [
    "**3. CNN**"
   ],
   "cell_type": "markdown",
   "metadata": {}
  },
  {
   "source": [
    "*a) model*"
   ],
   "cell_type": "markdown",
   "metadata": {}
  },
  {
   "cell_type": "code",
   "execution_count": 4,
   "metadata": {},
   "outputs": [],
   "source": [
    "cnn = tf.keras.models.Sequential()"
   ]
  },
  {
   "source": [
    "*b) convolution*"
   ],
   "cell_type": "markdown",
   "metadata": {}
  },
  {
   "cell_type": "code",
   "execution_count": 5,
   "metadata": {},
   "outputs": [],
   "source": [
    "cnn.add(tf.keras.layers.Conv2D(filters=32, kernel_size=3, activation='relu', input_shape=[64, 64, 3]))"
   ]
  },
  {
   "source": [
    "*c) pooling*"
   ],
   "cell_type": "markdown",
   "metadata": {}
  },
  {
   "cell_type": "code",
   "execution_count": 6,
   "metadata": {},
   "outputs": [],
   "source": [
    "cnn.add(tf.keras.layers.MaxPool2D(pool_size=2, strides=2))"
   ]
  },
  {
   "source": [
    "*d) add a second convolutional layer*"
   ],
   "cell_type": "markdown",
   "metadata": {}
  },
  {
   "cell_type": "code",
   "execution_count": 7,
   "metadata": {},
   "outputs": [],
   "source": [
    "cnn.add(tf.keras.layers.Conv2D(filters=32, kernel_size=3, activation='relu'))\n",
    "\n",
    "cnn.add(tf.keras.layers.MaxPool2D(pool_size=2, strides=2))"
   ]
  },
  {
   "source": [
    "*e) flattening*"
   ],
   "cell_type": "markdown",
   "metadata": {}
  },
  {
   "source": [
    "cnn.add(tf.keras.layers.Flatten())"
   ],
   "cell_type": "code",
   "metadata": {},
   "execution_count": 8,
   "outputs": []
  },
  {
   "source": [
    "*f) full connection*"
   ],
   "cell_type": "markdown",
   "metadata": {}
  },
  {
   "cell_type": "code",
   "execution_count": 9,
   "metadata": {},
   "outputs": [],
   "source": [
    "cnn.add(tf.keras.layers.Dense(units=128, activation='relu'))"
   ]
  },
  {
   "source": [
    "*g) output*"
   ],
   "cell_type": "markdown",
   "metadata": {}
  },
  {
   "cell_type": "code",
   "execution_count": 10,
   "metadata": {},
   "outputs": [],
   "source": [
    "cnn.add(tf.keras.layers.Dense(units=1, activation='sigmoid'))"
   ]
  },
  {
   "source": [
    "*h) compile the cnn*"
   ],
   "cell_type": "markdown",
   "metadata": {}
  },
  {
   "cell_type": "code",
   "execution_count": 11,
   "metadata": {},
   "outputs": [],
   "source": [
    "cnn.compile(optimizer = 'adam', loss = 'binary_crossentropy', metrics = ['accuracy'])"
   ]
  },
  {
   "source": [
    "*i) train the model on the training set and evaluate it on the test set*"
   ],
   "cell_type": "markdown",
   "metadata": {}
  },
  {
   "cell_type": "code",
   "execution_count": 12,
   "metadata": {},
   "outputs": [
    {
     "output_type": "stream",
     "name": "stdout",
     "text": [
      "Epoch 1/25\n",
      "250/250 [==============================] - 46s 185ms/step - loss: 0.6832 - accuracy: 0.5665 - val_loss: 0.6649 - val_accuracy: 0.5940\n",
      "Epoch 2/25\n",
      "250/250 [==============================] - 43s 173ms/step - loss: 0.6313 - accuracy: 0.6465 - val_loss: 0.5985 - val_accuracy: 0.6940\n",
      "Epoch 3/25\n",
      "250/250 [==============================] - 51s 204ms/step - loss: 0.5730 - accuracy: 0.7000 - val_loss: 0.5992 - val_accuracy: 0.6795\n",
      "Epoch 4/25\n",
      "250/250 [==============================] - 53s 212ms/step - loss: 0.5268 - accuracy: 0.7381 - val_loss: 0.5407 - val_accuracy: 0.7335\n",
      "Epoch 5/25\n",
      "250/250 [==============================] - 55s 220ms/step - loss: 0.5143 - accuracy: 0.7441 - val_loss: 0.4937 - val_accuracy: 0.7560\n",
      "Epoch 6/25\n",
      "250/250 [==============================] - 55s 222ms/step - loss: 0.4890 - accuracy: 0.7590 - val_loss: 0.4701 - val_accuracy: 0.7765\n",
      "Epoch 7/25\n",
      "250/250 [==============================] - 55s 221ms/step - loss: 0.4709 - accuracy: 0.7725 - val_loss: 0.4666 - val_accuracy: 0.7885\n",
      "Epoch 8/25\n",
      "250/250 [==============================] - 50s 198ms/step - loss: 0.4554 - accuracy: 0.7828 - val_loss: 0.4589 - val_accuracy: 0.7880\n",
      "Epoch 9/25\n",
      "250/250 [==============================] - 56s 223ms/step - loss: 0.4384 - accuracy: 0.7901 - val_loss: 0.5479 - val_accuracy: 0.7385\n",
      "Epoch 10/25\n",
      "250/250 [==============================] - 56s 223ms/step - loss: 0.4215 - accuracy: 0.7977 - val_loss: 0.4792 - val_accuracy: 0.7880\n",
      "Epoch 11/25\n",
      "250/250 [==============================] - 52s 209ms/step - loss: 0.4114 - accuracy: 0.8094 - val_loss: 0.4470 - val_accuracy: 0.7960\n",
      "Epoch 12/25\n",
      "250/250 [==============================] - 47s 186ms/step - loss: 0.3939 - accuracy: 0.8195 - val_loss: 0.4764 - val_accuracy: 0.7820\n",
      "Epoch 13/25\n",
      "250/250 [==============================] - 54s 214ms/step - loss: 0.3862 - accuracy: 0.8238 - val_loss: 0.4644 - val_accuracy: 0.7990\n",
      "Epoch 14/25\n",
      "250/250 [==============================] - 45s 180ms/step - loss: 0.3789 - accuracy: 0.8299 - val_loss: 0.4688 - val_accuracy: 0.7985\n",
      "Epoch 15/25\n",
      "250/250 [==============================] - 48s 190ms/step - loss: 0.3599 - accuracy: 0.8385 - val_loss: 0.4937 - val_accuracy: 0.7785\n",
      "Epoch 16/25\n",
      "250/250 [==============================] - 50s 199ms/step - loss: 0.3538 - accuracy: 0.8424 - val_loss: 0.4938 - val_accuracy: 0.7860\n",
      "Epoch 17/25\n",
      "250/250 [==============================] - 49s 196ms/step - loss: 0.3423 - accuracy: 0.8493 - val_loss: 0.4745 - val_accuracy: 0.7955\n",
      "Epoch 18/25\n",
      "250/250 [==============================] - 50s 201ms/step - loss: 0.3253 - accuracy: 0.8561 - val_loss: 0.4448 - val_accuracy: 0.8040\n",
      "Epoch 19/25\n",
      "250/250 [==============================] - 47s 190ms/step - loss: 0.3110 - accuracy: 0.8651 - val_loss: 0.4644 - val_accuracy: 0.8050\n",
      "Epoch 20/25\n",
      "250/250 [==============================] - 51s 203ms/step - loss: 0.3102 - accuracy: 0.8645 - val_loss: 0.4436 - val_accuracy: 0.8125\n",
      "Epoch 21/25\n",
      "250/250 [==============================] - 49s 195ms/step - loss: 0.2981 - accuracy: 0.8727 - val_loss: 0.4624 - val_accuracy: 0.8065\n",
      "Epoch 22/25\n",
      "250/250 [==============================] - 47s 187ms/step - loss: 0.2842 - accuracy: 0.8776 - val_loss: 0.5380 - val_accuracy: 0.7940\n",
      "Epoch 23/25\n",
      "250/250 [==============================] - 43s 172ms/step - loss: 0.2696 - accuracy: 0.8832 - val_loss: 0.4800 - val_accuracy: 0.8090\n",
      "Epoch 24/25\n",
      "250/250 [==============================] - 47s 189ms/step - loss: 0.2621 - accuracy: 0.8905 - val_loss: 0.5130 - val_accuracy: 0.8085\n",
      "Epoch 25/25\n",
      "250/250 [==============================] - 51s 202ms/step - loss: 0.2603 - accuracy: 0.8884 - val_loss: 0.4816 - val_accuracy: 0.8045\n"
     ]
    },
    {
     "output_type": "execute_result",
     "data": {
      "text/plain": [
       "<tensorflow.python.keras.callbacks.History at 0x7fc27a185cd0>"
      ]
     },
     "metadata": {},
     "execution_count": 12
    }
   ],
   "source": [
    "cnn.fit(x = training_set, validation_data = test_set, epochs = 25)"
   ]
  },
  {
   "source": [
    "*j) make a single prediction*"
   ],
   "cell_type": "markdown",
   "metadata": {}
  },
  {
   "cell_type": "code",
   "execution_count": 14,
   "metadata": {},
   "outputs": [
    {
     "output_type": "stream",
     "name": "stdout",
     "text": [
      "dog\n"
     ]
    }
   ],
   "source": [
    "import numpy as np\n",
    "from keras.preprocessing import image\n",
    "\n",
    "test_image = image.load_img('dataset/single_prediction/cat_or_dog_1.jpg',                                target_size = (64, 64))\n",
    "test_image = image.img_to_array(test_image)\n",
    "test_image = np.expand_dims(test_image, axis = 0)\n",
    "\n",
    "result = cnn.predict(test_image)\n",
    "\n",
    "training_set.class_indices\n",
    "if result[0][0] == 1:\n",
    "  prediction = 'dog'\n",
    "else:\n",
    "  prediction = 'cat'\n",
    "\n",
    "print(prediction)"
   ]
  },
  {
   "cell_type": "code",
   "execution_count": 15,
   "metadata": {},
   "outputs": [
    {
     "output_type": "stream",
     "name": "stdout",
     "text": [
      "cat\n"
     ]
    }
   ],
   "source": [
    "import numpy as np\n",
    "from keras.preprocessing import image\n",
    "\n",
    "test_image = image.load_img('dataset/single_prediction/cat_or_dog_2.jpg',                                target_size = (64, 64))\n",
    "test_image = image.img_to_array(test_image)\n",
    "test_image = np.expand_dims(test_image, axis = 0)\n",
    "\n",
    "result = cnn.predict(test_image)\n",
    "\n",
    "training_set.class_indices\n",
    "if result[0][0] == 1:\n",
    "  prediction = 'dog'\n",
    "else:\n",
    "  prediction = 'cat'\n",
    "\n",
    "print(prediction)"
   ]
  },
  {
   "cell_type": "code",
   "execution_count": null,
   "metadata": {},
   "outputs": [],
   "source": []
  }
 ]
}